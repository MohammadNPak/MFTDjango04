{
  "cells": [
    {
      "cell_type": "markdown",
      "metadata": {
        "id": "view-in-github",
        "colab_type": "text"
      },
      "source": [
        "<a href=\"https://colab.research.google.com/github/MohammadNPak/MFTDjango04/blob/master/ExteraHWQ1.ipynb\" target=\"_parent\"><img src=\"https://colab.research.google.com/assets/colab-badge.svg\" alt=\"Open In Colab\"/></a>"
      ]
    },
    {
      "cell_type": "code",
      "source": [
        "from google.colab import drive\n",
        "drive.mount('/content/drive')"
      ],
      "metadata": {
        "id": "tLaGxhqIbtt-",
        "outputId": "0a9f3436-6def-487f-81ba-242fe18152b4",
        "colab": {
          "base_uri": "https://localhost:8080/"
        }
      },
      "execution_count": 1,
      "outputs": [
        {
          "output_type": "stream",
          "name": "stdout",
          "text": [
            "Mounted at /content/drive\n"
          ]
        }
      ]
    },
    {
      "cell_type": "code",
      "source": [
        "!unzip /content/drive/MyDrive/NNDL/HWExtera/Q1/archive.zip -d ./dataset"
      ],
      "metadata": {
        "id": "5uGWgdmbck0x",
        "outputId": "4f612780-0f2d-46df-b1b0-cd05df82e3f3",
        "colab": {
          "base_uri": "https://localhost:8080/"
        }
      },
      "execution_count": 2,
      "outputs": [
        {
          "output_type": "stream",
          "name": "stdout",
          "text": [
            "Archive:  /content/drive/MyDrive/NNDL/HWExtera/Q1/archive.zip\n",
            "  inflating: ./dataset/creditcard.csv  \n"
          ]
        }
      ]
    },
    {
      "cell_type": "code",
      "source": [
        "!pip install -U imbalanced-learn"
      ],
      "metadata": {
        "id": "brYnWyqMdIbf",
        "outputId": "8cbfd60c-13fb-456b-e16b-a6663f152e08",
        "colab": {
          "base_uri": "https://localhost:8080/"
        }
      },
      "execution_count": 4,
      "outputs": [
        {
          "output_type": "stream",
          "name": "stdout",
          "text": [
            "Looking in indexes: https://pypi.org/simple, https://us-python.pkg.dev/colab-wheels/public/simple/\n",
            "Requirement already satisfied: imbalanced-learn in /usr/local/lib/python3.8/dist-packages (0.8.1)\n",
            "Collecting imbalanced-learn\n",
            "  Downloading imbalanced_learn-0.10.0-py3-none-any.whl (225 kB)\n",
            "\u001b[K     |████████████████████████████████| 225 kB 32.4 MB/s \n",
            "\u001b[?25hRequirement already satisfied: joblib>=1.1.1 in /usr/local/lib/python3.8/dist-packages (from imbalanced-learn) (1.2.0)\n",
            "Requirement already satisfied: numpy>=1.17.3 in /usr/local/lib/python3.8/dist-packages (from imbalanced-learn) (1.21.6)\n",
            "Requirement already satisfied: threadpoolctl>=2.0.0 in /usr/local/lib/python3.8/dist-packages (from imbalanced-learn) (3.1.0)\n",
            "Requirement already satisfied: scikit-learn>=1.0.2 in /usr/local/lib/python3.8/dist-packages (from imbalanced-learn) (1.0.2)\n",
            "Requirement already satisfied: scipy>=1.3.2 in /usr/local/lib/python3.8/dist-packages (from imbalanced-learn) (1.7.3)\n",
            "Installing collected packages: imbalanced-learn\n",
            "  Attempting uninstall: imbalanced-learn\n",
            "    Found existing installation: imbalanced-learn 0.8.1\n",
            "    Uninstalling imbalanced-learn-0.8.1:\n",
            "      Successfully uninstalled imbalanced-learn-0.8.1\n",
            "Successfully installed imbalanced-learn-0.10.0\n"
          ]
        }
      ]
    },
    {
      "cell_type": "code",
      "source": [
        "import tensorflow as tf\n",
        "from tensorflow import keras \n",
        "import pandas as pd\n",
        "import numpy as np\n",
        "from matplotlib import pyplot as plt\n",
        "import seaborn as sns\n",
        "from sklearn.model_selection import train_test_split\n",
        "from sklearn.preprocessing import StandardScaler\n",
        "\n",
        "data_csv = pd.read_csv('/content/dataset/creditcard.csv')\n",
        "data_csv.info()\n",
        "data_csv.drop(columns=['Time'],inplace=True)\n",
        "Y=data_csv['Class']\n",
        "X=data_csv.drop(columns=['Class'])\n",
        "X_train,X_test,y_train,y_test = train_test_split(X,Y.to_numpy().reshape((-1,1)),train_size=0.8,random_state=0)\n",
        "standard_scaler=StandardScaler().fit(X_train['Amount'].to_numpy().reshape((-1,1)))\n",
        "\n",
        "standard_scaler=StandardScaler().fit(X_train['Amount'].to_numpy().reshape((-1,1)))\n",
        "X_train['Amount_normal'] = standard_scaler.transform(X_train['Amount'].to_numpy().reshape((-1,1))).reshape((-1,))\n",
        "X_train.drop(columns=['Amount'],inplace=True)\n",
        "print(X_train.mean())\n",
        "print(X_train.var())"
      ],
      "metadata": {
        "id": "ZgWRfe_Jc42S",
        "outputId": "6fad7893-f048-4d3b-f492-323c3fd1dbd2",
        "colab": {
          "base_uri": "https://localhost:8080/"
        }
      },
      "execution_count": 3,
      "outputs": [
        {
          "output_type": "stream",
          "name": "stdout",
          "text": [
            "<class 'pandas.core.frame.DataFrame'>\n",
            "RangeIndex: 284807 entries, 0 to 284806\n",
            "Data columns (total 31 columns):\n",
            " #   Column  Non-Null Count   Dtype  \n",
            "---  ------  --------------   -----  \n",
            " 0   Time    284807 non-null  float64\n",
            " 1   V1      284807 non-null  float64\n",
            " 2   V2      284807 non-null  float64\n",
            " 3   V3      284807 non-null  float64\n",
            " 4   V4      284807 non-null  float64\n",
            " 5   V5      284807 non-null  float64\n",
            " 6   V6      284807 non-null  float64\n",
            " 7   V7      284807 non-null  float64\n",
            " 8   V8      284807 non-null  float64\n",
            " 9   V9      284807 non-null  float64\n",
            " 10  V10     284807 non-null  float64\n",
            " 11  V11     284807 non-null  float64\n",
            " 12  V12     284807 non-null  float64\n",
            " 13  V13     284807 non-null  float64\n",
            " 14  V14     284807 non-null  float64\n",
            " 15  V15     284807 non-null  float64\n",
            " 16  V16     284807 non-null  float64\n",
            " 17  V17     284807 non-null  float64\n",
            " 18  V18     284807 non-null  float64\n",
            " 19  V19     284807 non-null  float64\n",
            " 20  V20     284807 non-null  float64\n",
            " 21  V21     284807 non-null  float64\n",
            " 22  V22     284807 non-null  float64\n",
            " 23  V23     284807 non-null  float64\n",
            " 24  V24     284807 non-null  float64\n",
            " 25  V25     284807 non-null  float64\n",
            " 26  V26     284807 non-null  float64\n",
            " 27  V27     284807 non-null  float64\n",
            " 28  V28     284807 non-null  float64\n",
            " 29  Amount  284807 non-null  float64\n",
            " 30  Class   284807 non-null  int64  \n",
            "dtypes: float64(30), int64(1)\n",
            "memory usage: 67.4 MB\n",
            "V1               2.930102e-03\n",
            "V2              -8.770873e-04\n",
            "V3              -1.470194e-03\n",
            "V4               1.131120e-03\n",
            "V5              -1.714407e-03\n",
            "V6              -1.034694e-03\n",
            "V7              -4.110980e-04\n",
            "V8              -1.359943e-03\n",
            "V9              -1.842561e-05\n",
            "V10              1.496398e-03\n",
            "V11             -7.316551e-04\n",
            "V12             -9.895529e-04\n",
            "V13              8.159044e-04\n",
            "V14              9.918070e-04\n",
            "V15              6.078473e-04\n",
            "V16             -1.308460e-04\n",
            "V17              6.572134e-04\n",
            "V18             -7.350219e-04\n",
            "V19              3.116051e-04\n",
            "V20              1.775156e-03\n",
            "V21              2.661591e-04\n",
            "V22              3.002196e-04\n",
            "V23             -2.758811e-04\n",
            "V24              6.874714e-04\n",
            "V25              1.916558e-04\n",
            "V26             -5.841437e-04\n",
            "V27             -5.737755e-04\n",
            "V28             -1.351573e-04\n",
            "Amount_normal   -5.338933e-17\n",
            "dtype: float64\n",
            "V1               3.823060\n",
            "V2               2.721418\n",
            "V3               2.295392\n",
            "V4               2.006077\n",
            "V5               1.865852\n",
            "V6               1.759347\n",
            "V7               1.501401\n",
            "V8               1.453250\n",
            "V9               1.209937\n",
            "V10              1.190480\n",
            "V11              1.039764\n",
            "V12              0.995747\n",
            "V13              0.994644\n",
            "V14              0.914763\n",
            "V15              0.837816\n",
            "V16              0.767089\n",
            "V17              0.722768\n",
            "V18              0.701739\n",
            "V19              0.664330\n",
            "V20              0.585038\n",
            "V21              0.544043\n",
            "V22              0.528100\n",
            "V23              0.388221\n",
            "V24              0.366349\n",
            "V25              0.271269\n",
            "V26              0.232269\n",
            "V27              0.161117\n",
            "V28              0.102880\n",
            "Amount_normal    1.000004\n",
            "dtype: float64\n"
          ]
        }
      ]
    },
    {
      "cell_type": "code",
      "source": [
        "from imblearn.over_sampling import SMOTE\n",
        "sm = SMOTE()\n",
        "X_train.isna().sum()\n",
        "\n",
        "X_res, y_res = sm.fit_resample(X_train, y_train)\n",
        "\n",
        "print(X_res.shape)\n",
        "print(X_train.shape)\n",
        "X_res.groupby(by=y_res).var()\n",
        "X_res.groupby(by=y_res).mean()"
      ],
      "metadata": {
        "id": "b9k2lzM5dPeO",
        "outputId": "488fb201-3330-4516-86c5-1aed308ef390",
        "colab": {
          "base_uri": "https://localhost:8080/",
          "height": 240
        }
      },
      "execution_count": 5,
      "outputs": [
        {
          "output_type": "stream",
          "name": "stdout",
          "text": [
            "(454908, 29)\n",
            "(227845, 29)\n"
          ]
        },
        {
          "output_type": "execute_result",
          "data": {
            "text/plain": [
              "         V1        V2        V3        V4        V5        V6        V7  \\\n",
              "0  0.011422 -0.007255  0.010792 -0.006585  0.004003  0.001349  0.009418   \n",
              "1 -4.809396  3.732409 -7.058766  4.428625 -3.345002 -1.437217 -5.643259   \n",
              "\n",
              "         V8        V9       V10  ...       V20       V21       V22       V23  \\\n",
              "0 -0.002337  0.004375  0.011157  ...  0.001132 -0.001134  0.000372 -0.000219   \n",
              "1  0.756079 -2.606422 -5.676620  ...  0.370960  0.845660 -0.064322 -0.002911   \n",
              "\n",
              "        V24       V25       V26       V27       V28  Amount_normal  \n",
              "0  0.000842  0.000103 -0.000672 -0.000713 -0.000306      -0.000256  \n",
              "1 -0.087760  0.095916  0.052947  0.090991  0.110582       0.090219  \n",
              "\n",
              "[2 rows x 29 columns]"
            ],
            "text/html": [
              "\n",
              "  <div id=\"df-6754b9b1-2d4d-4880-96c8-02a3584948c3\">\n",
              "    <div class=\"colab-df-container\">\n",
              "      <div>\n",
              "<style scoped>\n",
              "    .dataframe tbody tr th:only-of-type {\n",
              "        vertical-align: middle;\n",
              "    }\n",
              "\n",
              "    .dataframe tbody tr th {\n",
              "        vertical-align: top;\n",
              "    }\n",
              "\n",
              "    .dataframe thead th {\n",
              "        text-align: right;\n",
              "    }\n",
              "</style>\n",
              "<table border=\"1\" class=\"dataframe\">\n",
              "  <thead>\n",
              "    <tr style=\"text-align: right;\">\n",
              "      <th></th>\n",
              "      <th>V1</th>\n",
              "      <th>V2</th>\n",
              "      <th>V3</th>\n",
              "      <th>V4</th>\n",
              "      <th>V5</th>\n",
              "      <th>V6</th>\n",
              "      <th>V7</th>\n",
              "      <th>V8</th>\n",
              "      <th>V9</th>\n",
              "      <th>V10</th>\n",
              "      <th>...</th>\n",
              "      <th>V20</th>\n",
              "      <th>V21</th>\n",
              "      <th>V22</th>\n",
              "      <th>V23</th>\n",
              "      <th>V24</th>\n",
              "      <th>V25</th>\n",
              "      <th>V26</th>\n",
              "      <th>V27</th>\n",
              "      <th>V28</th>\n",
              "      <th>Amount_normal</th>\n",
              "    </tr>\n",
              "  </thead>\n",
              "  <tbody>\n",
              "    <tr>\n",
              "      <th>0</th>\n",
              "      <td>0.011422</td>\n",
              "      <td>-0.007255</td>\n",
              "      <td>0.010792</td>\n",
              "      <td>-0.006585</td>\n",
              "      <td>0.004003</td>\n",
              "      <td>0.001349</td>\n",
              "      <td>0.009418</td>\n",
              "      <td>-0.002337</td>\n",
              "      <td>0.004375</td>\n",
              "      <td>0.011157</td>\n",
              "      <td>...</td>\n",
              "      <td>0.001132</td>\n",
              "      <td>-0.001134</td>\n",
              "      <td>0.000372</td>\n",
              "      <td>-0.000219</td>\n",
              "      <td>0.000842</td>\n",
              "      <td>0.000103</td>\n",
              "      <td>-0.000672</td>\n",
              "      <td>-0.000713</td>\n",
              "      <td>-0.000306</td>\n",
              "      <td>-0.000256</td>\n",
              "    </tr>\n",
              "    <tr>\n",
              "      <th>1</th>\n",
              "      <td>-4.809396</td>\n",
              "      <td>3.732409</td>\n",
              "      <td>-7.058766</td>\n",
              "      <td>4.428625</td>\n",
              "      <td>-3.345002</td>\n",
              "      <td>-1.437217</td>\n",
              "      <td>-5.643259</td>\n",
              "      <td>0.756079</td>\n",
              "      <td>-2.606422</td>\n",
              "      <td>-5.676620</td>\n",
              "      <td>...</td>\n",
              "      <td>0.370960</td>\n",
              "      <td>0.845660</td>\n",
              "      <td>-0.064322</td>\n",
              "      <td>-0.002911</td>\n",
              "      <td>-0.087760</td>\n",
              "      <td>0.095916</td>\n",
              "      <td>0.052947</td>\n",
              "      <td>0.090991</td>\n",
              "      <td>0.110582</td>\n",
              "      <td>0.090219</td>\n",
              "    </tr>\n",
              "  </tbody>\n",
              "</table>\n",
              "<p>2 rows × 29 columns</p>\n",
              "</div>\n",
              "      <button class=\"colab-df-convert\" onclick=\"convertToInteractive('df-6754b9b1-2d4d-4880-96c8-02a3584948c3')\"\n",
              "              title=\"Convert this dataframe to an interactive table.\"\n",
              "              style=\"display:none;\">\n",
              "        \n",
              "  <svg xmlns=\"http://www.w3.org/2000/svg\" height=\"24px\"viewBox=\"0 0 24 24\"\n",
              "       width=\"24px\">\n",
              "    <path d=\"M0 0h24v24H0V0z\" fill=\"none\"/>\n",
              "    <path d=\"M18.56 5.44l.94 2.06.94-2.06 2.06-.94-2.06-.94-.94-2.06-.94 2.06-2.06.94zm-11 1L8.5 8.5l.94-2.06 2.06-.94-2.06-.94L8.5 2.5l-.94 2.06-2.06.94zm10 10l.94 2.06.94-2.06 2.06-.94-2.06-.94-.94-2.06-.94 2.06-2.06.94z\"/><path d=\"M17.41 7.96l-1.37-1.37c-.4-.4-.92-.59-1.43-.59-.52 0-1.04.2-1.43.59L10.3 9.45l-7.72 7.72c-.78.78-.78 2.05 0 2.83L4 21.41c.39.39.9.59 1.41.59.51 0 1.02-.2 1.41-.59l7.78-7.78 2.81-2.81c.8-.78.8-2.07 0-2.86zM5.41 20L4 18.59l7.72-7.72 1.47 1.35L5.41 20z\"/>\n",
              "  </svg>\n",
              "      </button>\n",
              "      \n",
              "  <style>\n",
              "    .colab-df-container {\n",
              "      display:flex;\n",
              "      flex-wrap:wrap;\n",
              "      gap: 12px;\n",
              "    }\n",
              "\n",
              "    .colab-df-convert {\n",
              "      background-color: #E8F0FE;\n",
              "      border: none;\n",
              "      border-radius: 50%;\n",
              "      cursor: pointer;\n",
              "      display: none;\n",
              "      fill: #1967D2;\n",
              "      height: 32px;\n",
              "      padding: 0 0 0 0;\n",
              "      width: 32px;\n",
              "    }\n",
              "\n",
              "    .colab-df-convert:hover {\n",
              "      background-color: #E2EBFA;\n",
              "      box-shadow: 0px 1px 2px rgba(60, 64, 67, 0.3), 0px 1px 3px 1px rgba(60, 64, 67, 0.15);\n",
              "      fill: #174EA6;\n",
              "    }\n",
              "\n",
              "    [theme=dark] .colab-df-convert {\n",
              "      background-color: #3B4455;\n",
              "      fill: #D2E3FC;\n",
              "    }\n",
              "\n",
              "    [theme=dark] .colab-df-convert:hover {\n",
              "      background-color: #434B5C;\n",
              "      box-shadow: 0px 1px 3px 1px rgba(0, 0, 0, 0.15);\n",
              "      filter: drop-shadow(0px 1px 2px rgba(0, 0, 0, 0.3));\n",
              "      fill: #FFFFFF;\n",
              "    }\n",
              "  </style>\n",
              "\n",
              "      <script>\n",
              "        const buttonEl =\n",
              "          document.querySelector('#df-6754b9b1-2d4d-4880-96c8-02a3584948c3 button.colab-df-convert');\n",
              "        buttonEl.style.display =\n",
              "          google.colab.kernel.accessAllowed ? 'block' : 'none';\n",
              "\n",
              "        async function convertToInteractive(key) {\n",
              "          const element = document.querySelector('#df-6754b9b1-2d4d-4880-96c8-02a3584948c3');\n",
              "          const dataTable =\n",
              "            await google.colab.kernel.invokeFunction('convertToInteractive',\n",
              "                                                     [key], {});\n",
              "          if (!dataTable) return;\n",
              "\n",
              "          const docLinkHtml = 'Like what you see? Visit the ' +\n",
              "            '<a target=\"_blank\" href=https://colab.research.google.com/notebooks/data_table.ipynb>data table notebook</a>'\n",
              "            + ' to learn more about interactive tables.';\n",
              "          element.innerHTML = '';\n",
              "          dataTable['output_type'] = 'display_data';\n",
              "          await google.colab.output.renderOutput(dataTable, element);\n",
              "          const docLink = document.createElement('div');\n",
              "          docLink.innerHTML = docLinkHtml;\n",
              "          element.appendChild(docLink);\n",
              "        }\n",
              "      </script>\n",
              "    </div>\n",
              "  </div>\n",
              "  "
            ]
          },
          "metadata": {},
          "execution_count": 5
        }
      ]
    },
    {
      "cell_type": "code",
      "source": [
        "from tensorflow.keras.layers import Dense\n",
        "from tensorflow.keras import metrics\n",
        "from tensorflow.keras.optimizers import Adam\n",
        "from tensorflow.keras.activations import relu,linear,\n",
        "from tensorflow.keras.losses import MeanSquaredError\n",
        "from tensorflow.keras.models import Sequential\n",
        "\n",
        "noise = np.random.normal(0,0.05,X_res.size).reshape(X_res.shape)\n",
        "X_noise = X_res+noise\n",
        "\n",
        "model = Sequential([\n",
        "    Dense(29,activation=linear),\n",
        "    Dense(22,activation=linear),\n",
        "    Dense(15,activation=relu),\n",
        "    Dense(10,activation=relu),\n",
        "    Dense(15,activation=relu),\n",
        "    Dense(22,activation=linear),\n",
        "    Dense(29,activation=linear)]\n",
        ")\n",
        "\n",
        "\n",
        "model.compile(\n",
        "    optimizer=Adam(),\n",
        "    loss=MeanSquaredError(),\n",
        "    metrics=[metrics.MeanSquaredError()]\n",
        ")\n",
        "\n",
        "report = model.fit(x=X_noise,\n",
        "          y=X_res,\n",
        "          batch_size=64,\n",
        "          epochs=50,\n",
        "          validation_split=0.2)\n"
      ],
      "metadata": {
        "id": "6R0G3F4AdWsJ",
        "outputId": "e5acadbc-1b3a-4d80-f755-d8092d509648",
        "colab": {
          "base_uri": "https://localhost:8080/"
        }
      },
      "execution_count": 8,
      "outputs": [
        {
          "output_type": "stream",
          "name": "stdout",
          "text": [
            "Epoch 1/50\n",
            "5687/5687 [==============================] - 19s 3ms/step - loss: 0.6872 - mean_squared_error: 0.6872 - val_loss: 0.4090 - val_mean_squared_error: 0.4090\n",
            "Epoch 2/50\n",
            "5687/5687 [==============================] - 18s 3ms/step - loss: 0.3523 - mean_squared_error: 0.3523 - val_loss: 0.2764 - val_mean_squared_error: 0.2764\n",
            "Epoch 3/50\n",
            "5687/5687 [==============================] - 18s 3ms/step - loss: 0.3338 - mean_squared_error: 0.3338 - val_loss: 0.2658 - val_mean_squared_error: 0.2658\n",
            "Epoch 4/50\n",
            "5687/5687 [==============================] - 19s 3ms/step - loss: 0.3299 - mean_squared_error: 0.3299 - val_loss: 0.2641 - val_mean_squared_error: 0.2641\n",
            "Epoch 5/50\n",
            "5687/5687 [==============================] - 18s 3ms/step - loss: 0.3286 - mean_squared_error: 0.3286 - val_loss: 0.2628 - val_mean_squared_error: 0.2628\n",
            "Epoch 6/50\n",
            "5687/5687 [==============================] - 18s 3ms/step - loss: 0.3279 - mean_squared_error: 0.3279 - val_loss: 0.2601 - val_mean_squared_error: 0.2601\n",
            "Epoch 7/50\n",
            "5687/5687 [==============================] - 18s 3ms/step - loss: 0.3268 - mean_squared_error: 0.3268 - val_loss: 0.2589 - val_mean_squared_error: 0.2589\n",
            "Epoch 8/50\n",
            "5687/5687 [==============================] - 18s 3ms/step - loss: 0.3257 - mean_squared_error: 0.3257 - val_loss: 0.2566 - val_mean_squared_error: 0.2566\n",
            "Epoch 9/50\n",
            "5687/5687 [==============================] - 18s 3ms/step - loss: 0.3245 - mean_squared_error: 0.3245 - val_loss: 0.2633 - val_mean_squared_error: 0.2633\n",
            "Epoch 10/50\n",
            "5687/5687 [==============================] - 18s 3ms/step - loss: 0.3244 - mean_squared_error: 0.3244 - val_loss: 0.2564 - val_mean_squared_error: 0.2564\n",
            "Epoch 11/50\n",
            "5687/5687 [==============================] - 18s 3ms/step - loss: 0.3241 - mean_squared_error: 0.3241 - val_loss: 0.2572 - val_mean_squared_error: 0.2572\n",
            "Epoch 12/50\n",
            "5687/5687 [==============================] - 18s 3ms/step - loss: 0.3238 - mean_squared_error: 0.3238 - val_loss: 0.2546 - val_mean_squared_error: 0.2546\n",
            "Epoch 13/50\n",
            "5687/5687 [==============================] - 18s 3ms/step - loss: 0.3237 - mean_squared_error: 0.3237 - val_loss: 0.2617 - val_mean_squared_error: 0.2617\n",
            "Epoch 14/50\n",
            "5687/5687 [==============================] - 18s 3ms/step - loss: 0.3237 - mean_squared_error: 0.3237 - val_loss: 0.2561 - val_mean_squared_error: 0.2561\n",
            "Epoch 15/50\n",
            "5687/5687 [==============================] - 18s 3ms/step - loss: 0.3235 - mean_squared_error: 0.3235 - val_loss: 0.2565 - val_mean_squared_error: 0.2565\n",
            "Epoch 16/50\n",
            "5687/5687 [==============================] - 18s 3ms/step - loss: 0.3240 - mean_squared_error: 0.3240 - val_loss: 0.2551 - val_mean_squared_error: 0.2551\n",
            "Epoch 17/50\n",
            "5687/5687 [==============================] - 18s 3ms/step - loss: 0.3230 - mean_squared_error: 0.3230 - val_loss: 0.2543 - val_mean_squared_error: 0.2543\n",
            "Epoch 18/50\n",
            "5687/5687 [==============================] - 19s 3ms/step - loss: 0.3234 - mean_squared_error: 0.3234 - val_loss: 0.2546 - val_mean_squared_error: 0.2546\n",
            "Epoch 19/50\n",
            "5687/5687 [==============================] - 19s 3ms/step - loss: 0.3234 - mean_squared_error: 0.3234 - val_loss: 0.2540 - val_mean_squared_error: 0.2540\n",
            "Epoch 20/50\n",
            "5687/5687 [==============================] - 19s 3ms/step - loss: 0.3231 - mean_squared_error: 0.3231 - val_loss: 0.2572 - val_mean_squared_error: 0.2572\n",
            "Epoch 21/50\n",
            "5687/5687 [==============================] - 19s 3ms/step - loss: 0.3240 - mean_squared_error: 0.3240 - val_loss: 0.2548 - val_mean_squared_error: 0.2548\n",
            "Epoch 22/50\n",
            "5687/5687 [==============================] - 18s 3ms/step - loss: 0.3228 - mean_squared_error: 0.3228 - val_loss: 0.2547 - val_mean_squared_error: 0.2547\n",
            "Epoch 23/50\n",
            "5687/5687 [==============================] - 18s 3ms/step - loss: 0.3230 - mean_squared_error: 0.3230 - val_loss: 0.2543 - val_mean_squared_error: 0.2543\n",
            "Epoch 24/50\n",
            "5687/5687 [==============================] - 18s 3ms/step - loss: 0.3229 - mean_squared_error: 0.3229 - val_loss: 0.2585 - val_mean_squared_error: 0.2585\n",
            "Epoch 25/50\n",
            "5687/5687 [==============================] - 19s 3ms/step - loss: 0.3231 - mean_squared_error: 0.3231 - val_loss: 0.2570 - val_mean_squared_error: 0.2570\n",
            "Epoch 26/50\n",
            "5687/5687 [==============================] - 18s 3ms/step - loss: 0.3229 - mean_squared_error: 0.3229 - val_loss: 0.2538 - val_mean_squared_error: 0.2538\n",
            "Epoch 27/50\n",
            "5687/5687 [==============================] - 19s 3ms/step - loss: 0.3228 - mean_squared_error: 0.3228 - val_loss: 0.2568 - val_mean_squared_error: 0.2568\n",
            "Epoch 28/50\n",
            "5687/5687 [==============================] - 19s 3ms/step - loss: 0.3228 - mean_squared_error: 0.3228 - val_loss: 0.2537 - val_mean_squared_error: 0.2537\n",
            "Epoch 29/50\n",
            "5687/5687 [==============================] - 19s 3ms/step - loss: 0.3229 - mean_squared_error: 0.3229 - val_loss: 0.3436 - val_mean_squared_error: 0.3436\n",
            "Epoch 30/50\n",
            "5687/5687 [==============================] - 18s 3ms/step - loss: 0.3228 - mean_squared_error: 0.3228 - val_loss: 0.2587 - val_mean_squared_error: 0.2587\n",
            "Epoch 31/50\n",
            "5687/5687 [==============================] - 19s 3ms/step - loss: 0.3225 - mean_squared_error: 0.3225 - val_loss: 0.2564 - val_mean_squared_error: 0.2564\n",
            "Epoch 32/50\n",
            "5687/5687 [==============================] - 18s 3ms/step - loss: 0.3094 - mean_squared_error: 0.3094 - val_loss: 0.2497 - val_mean_squared_error: 0.2497\n",
            "Epoch 33/50\n",
            "5687/5687 [==============================] - 18s 3ms/step - loss: 0.2900 - mean_squared_error: 0.2900 - val_loss: 0.2331 - val_mean_squared_error: 0.2331\n",
            "Epoch 34/50\n",
            "5687/5687 [==============================] - 18s 3ms/step - loss: 0.2899 - mean_squared_error: 0.2899 - val_loss: 0.2241 - val_mean_squared_error: 0.2241\n",
            "Epoch 35/50\n",
            "5687/5687 [==============================] - 18s 3ms/step - loss: 0.2896 - mean_squared_error: 0.2896 - val_loss: 0.2230 - val_mean_squared_error: 0.2230\n",
            "Epoch 36/50\n",
            "5687/5687 [==============================] - 18s 3ms/step - loss: 0.2889 - mean_squared_error: 0.2889 - val_loss: 0.2225 - val_mean_squared_error: 0.2225\n",
            "Epoch 37/50\n",
            "5687/5687 [==============================] - 18s 3ms/step - loss: 0.2890 - mean_squared_error: 0.2890 - val_loss: 0.2228 - val_mean_squared_error: 0.2228\n",
            "Epoch 38/50\n",
            "5687/5687 [==============================] - 18s 3ms/step - loss: 0.2887 - mean_squared_error: 0.2887 - val_loss: 0.2407 - val_mean_squared_error: 0.2407\n",
            "Epoch 39/50\n",
            "5687/5687 [==============================] - 18s 3ms/step - loss: 0.2889 - mean_squared_error: 0.2889 - val_loss: 0.2261 - val_mean_squared_error: 0.2261\n",
            "Epoch 40/50\n",
            "5687/5687 [==============================] - 18s 3ms/step - loss: 0.2886 - mean_squared_error: 0.2886 - val_loss: 0.2246 - val_mean_squared_error: 0.2246\n",
            "Epoch 41/50\n",
            "5687/5687 [==============================] - 19s 3ms/step - loss: 0.2886 - mean_squared_error: 0.2886 - val_loss: 0.2886 - val_mean_squared_error: 0.2886\n",
            "Epoch 42/50\n",
            "5687/5687 [==============================] - 19s 3ms/step - loss: 0.2885 - mean_squared_error: 0.2885 - val_loss: 0.2248 - val_mean_squared_error: 0.2248\n",
            "Epoch 43/50\n",
            "5687/5687 [==============================] - 18s 3ms/step - loss: 0.2887 - mean_squared_error: 0.2887 - val_loss: 0.2211 - val_mean_squared_error: 0.2211\n",
            "Epoch 44/50\n",
            "5687/5687 [==============================] - 19s 3ms/step - loss: 0.2884 - mean_squared_error: 0.2884 - val_loss: 0.2232 - val_mean_squared_error: 0.2232\n",
            "Epoch 45/50\n",
            "5687/5687 [==============================] - 18s 3ms/step - loss: 0.2883 - mean_squared_error: 0.2883 - val_loss: 0.2251 - val_mean_squared_error: 0.2251\n",
            "Epoch 46/50\n",
            "5687/5687 [==============================] - 18s 3ms/step - loss: 0.2884 - mean_squared_error: 0.2884 - val_loss: 0.2246 - val_mean_squared_error: 0.2246\n",
            "Epoch 47/50\n",
            "5687/5687 [==============================] - 18s 3ms/step - loss: 0.2883 - mean_squared_error: 0.2883 - val_loss: 0.2296 - val_mean_squared_error: 0.2296\n",
            "Epoch 48/50\n",
            "5687/5687 [==============================] - 18s 3ms/step - loss: 0.2881 - mean_squared_error: 0.2881 - val_loss: 0.2260 - val_mean_squared_error: 0.2260\n",
            "Epoch 49/50\n",
            "5687/5687 [==============================] - 18s 3ms/step - loss: 0.2882 - mean_squared_error: 0.2882 - val_loss: 0.2240 - val_mean_squared_error: 0.2240\n",
            "Epoch 50/50\n",
            "5687/5687 [==============================] - 18s 3ms/step - loss: 0.2881 - mean_squared_error: 0.2881 - val_loss: 0.2239 - val_mean_squared_error: 0.2239\n"
          ]
        }
      ]
    },
    {
      "cell_type": "code",
      "source": [
        "model.save('auto_encode')\n"
      ],
      "metadata": {
        "id": "XLjJn7XUl6VB"
      },
      "execution_count": 13,
      "outputs": []
    },
    {
      "cell_type": "code",
      "source": [
        "auto_encode_report=pd.DataFrame(report.history)\n",
        "auto_encode_report.to_csv('auto_encode_report.csv')\n",
        "auto_encode_report.plot()\n"
      ],
      "metadata": {
        "id": "bSVIFOpRmE2Z",
        "outputId": "9b2b47bb-34a9-4d34-ffd5-e5c579f67265",
        "colab": {
          "base_uri": "https://localhost:8080/",
          "height": 282
        }
      },
      "execution_count": 18,
      "outputs": [
        {
          "output_type": "execute_result",
          "data": {
            "text/plain": [
              "<matplotlib.axes._subplots.AxesSubplot at 0x7f8b960608b0>"
            ]
          },
          "metadata": {},
          "execution_count": 18
        },
        {
          "output_type": "display_data",
          "data": {
            "text/plain": [
              "<Figure size 432x288 with 1 Axes>"
            ],
            "image/png": "[encoded data removed]"
          },
          "metadata": {
            "needs_background": "light"
          }
        }
      ]
    },
    {
      "cell_type": "code",
      "source": [],
      "metadata": {
        "id": "F4Xt8G3OmXXx"
      },
      "execution_count": null,
      "outputs": []
    },
    {
      "cell_type": "code",
      "source": [
        "for layer in model.layers:\n",
        "  layer.trainable=False\n",
        "\n",
        "model.summary()"
      ],
      "metadata": {
        "id": "B5OhPJrijsSn",
        "outputId": "d1428fa0-71d5-41f2-e553-5747d0595f4d",
        "colab": {
          "base_uri": "https://localhost:8080/"
        }
      },
      "execution_count": 19,
      "outputs": [
        {
          "output_type": "stream",
          "name": "stdout",
          "text": [
            "Model: \"sequential_2\"\n",
            "_________________________________________________________________\n",
            " Layer (type)                Output Shape              Param #   \n",
            "=================================================================\n",
            " dense_14 (Dense)            (None, 29)                870       \n",
            "                                                                 \n",
            " dense_15 (Dense)            (None, 22)                660       \n",
            "                                                                 \n",
            " dense_16 (Dense)            (None, 15)                345       \n",
            "                                                                 \n",
            " dense_17 (Dense)            (None, 10)                160       \n",
            "                                                                 \n",
            " dense_18 (Dense)            (None, 15)                165       \n",
            "                                                                 \n",
            " dense_19 (Dense)            (None, 22)                352       \n",
            "                                                                 \n",
            " dense_20 (Dense)            (None, 29)                667       \n",
            "                                                                 \n",
            "=================================================================\n",
            "Total params: 3,219\n",
            "Trainable params: 0\n",
            "Non-trainable params: 3,219\n",
            "_________________________________________________________________\n"
          ]
        }
      ]
    },
    {
      "cell_type": "code",
      "source": [
        "from sklearn.preprocessing import label_binarize\n",
        "# lb = LabelBinarizer(sparse_output=True).fit(y_res)\n",
        "t = label_binarize(y_res,classes=[0,1],neg_label=0, pos_label=1)\n",
        "y_softmax = np.concatenate([t,np.logical_not(t)],axis=1)\n",
        "y_softmax"
      ],
      "metadata": {
        "id": "r8DhE61_psfF",
        "outputId": "95a95679-6ef3-440a-882e-75e07610cf57",
        "colab": {
          "base_uri": "https://localhost:8080/"
        }
      },
      "execution_count": 37,
      "outputs": [
        {
          "output_type": "execute_result",
          "data": {
            "text/plain": [
              "array([[0, 1],\n",
              "       [0, 1],\n",
              "       [0, 1],\n",
              "       ...,\n",
              "       [1, 0],\n",
              "       [1, 0],\n",
              "       [1, 0]])"
            ]
          },
          "metadata": {},
          "execution_count": 37
        }
      ]
    },
    {
      "cell_type": "code",
      "source": [
        "from tensorflow.keras.activations import softmax\n",
        "from tensorflow.keras.losses import CategoricalCrossentropy \n",
        "from tensorflow.keras.metrics import CategoricalAccuracy,Recall,Precision\n",
        "final_model = Sequential(\n",
        "    model.layers +\n",
        "    [\n",
        "        Dense(29,activation=relu),\n",
        "        Dense(22,activation=relu),\n",
        "        Dense(15,activation=relu),\n",
        "        Dense(10,activation=relu),\n",
        "        Dense(5,activation=relu),\n",
        "        Dense(2,activation='softmax')\n",
        "    ]\n",
        ")\n",
        "\n",
        "final_model.compile(\n",
        "    optimizer=Adam(),\n",
        "    loss=CategoricalCrossentropy(),\n",
        "    metrics=[CategoricalAccuracy(),Recall(),Precision()]\n",
        ")\n",
        "\n",
        "final_report = final_model.fit(x=X_res,\n",
        "          y=y_softmax,\n",
        "          batch_size=64,\n",
        "          epochs=50,\n",
        "          validation_split=0.2)"
      ],
      "metadata": {
        "id": "I6JO1Izmmr7k",
        "outputId": "6f93f649-ef0c-4b33-ef5f-bcf60855b4c8",
        "colab": {
          "base_uri": "https://localhost:8080/"
        }
      },
      "execution_count": 38,
      "outputs": [
        {
          "output_type": "stream",
          "name": "stdout",
          "text": [
            "Epoch 1/50\n",
            "5687/5687 [==============================] - 30s 5ms/step - loss: 0.0389 - categorical_accuracy: 0.9912 - recall_2: 0.9912 - precision_2: 0.9912 - val_loss: 0.0202 - val_categorical_accuracy: 0.9949 - val_recall_2: 0.9949 - val_precision_2: 0.9949\n",
            "Epoch 2/50\n",
            "5687/5687 [==============================] - 27s 5ms/step - loss: 0.0301 - categorical_accuracy: 0.9911 - recall_2: 0.9911 - precision_2: 0.9911 - val_loss: 0.0272 - val_categorical_accuracy: 0.9929 - val_recall_2: 0.9929 - val_precision_2: 0.9929\n",
            "Epoch 3/50\n",
            "5687/5687 [==============================] - 31s 5ms/step - loss: 0.0291 - categorical_accuracy: 0.9912 - recall_2: 0.9912 - precision_2: 0.9912 - val_loss: 0.0303 - val_categorical_accuracy: 0.9956 - val_recall_2: 0.9956 - val_precision_2: 0.9956\n",
            "Epoch 4/50\n",
            "5687/5687 [==============================] - 28s 5ms/step - loss: 0.0285 - categorical_accuracy: 0.9912 - recall_2: 0.9912 - precision_2: 0.9912 - val_loss: 0.0336 - val_categorical_accuracy: 0.9854 - val_recall_2: 0.9854 - val_precision_2: 0.9854\n",
            "Epoch 5/50\n",
            "5687/5687 [==============================] - 28s 5ms/step - loss: 0.0284 - categorical_accuracy: 0.9912 - recall_2: 0.9912 - precision_2: 0.9912 - val_loss: 0.0268 - val_categorical_accuracy: 0.9948 - val_recall_2: 0.9948 - val_precision_2: 0.9948\n",
            "Epoch 6/50\n",
            "5687/5687 [==============================] - 27s 5ms/step - loss: 0.0282 - categorical_accuracy: 0.9913 - recall_2: 0.9913 - precision_2: 0.9913 - val_loss: 0.0243 - val_categorical_accuracy: 0.9955 - val_recall_2: 0.9955 - val_precision_2: 0.9955\n",
            "Epoch 7/50\n",
            "5687/5687 [==============================] - 27s 5ms/step - loss: 0.0280 - categorical_accuracy: 0.9914 - recall_2: 0.9914 - precision_2: 0.9914 - val_loss: 0.0304 - val_categorical_accuracy: 0.9867 - val_recall_2: 0.9867 - val_precision_2: 0.9867\n",
            "Epoch 8/50\n",
            "5687/5687 [==============================] - 27s 5ms/step - loss: 0.0279 - categorical_accuracy: 0.9913 - recall_2: 0.9913 - precision_2: 0.9913 - val_loss: 0.0215 - val_categorical_accuracy: 0.9955 - val_recall_2: 0.9955 - val_precision_2: 0.9955\n",
            "Epoch 9/50\n",
            "5687/5687 [==============================] - 29s 5ms/step - loss: 0.0278 - categorical_accuracy: 0.9913 - recall_2: 0.9913 - precision_2: 0.9913 - val_loss: 0.0292 - val_categorical_accuracy: 0.9940 - val_recall_2: 0.9940 - val_precision_2: 0.9940\n",
            "Epoch 10/50\n",
            "5687/5687 [==============================] - 28s 5ms/step - loss: 0.0277 - categorical_accuracy: 0.9914 - recall_2: 0.9914 - precision_2: 0.9914 - val_loss: 0.0208 - val_categorical_accuracy: 0.9952 - val_recall_2: 0.9952 - val_precision_2: 0.9952\n",
            "Epoch 11/50\n",
            "5687/5687 [==============================] - 27s 5ms/step - loss: 0.0275 - categorical_accuracy: 0.9914 - recall_2: 0.9914 - precision_2: 0.9914 - val_loss: 0.0212 - val_categorical_accuracy: 0.9966 - val_recall_2: 0.9966 - val_precision_2: 0.9966\n",
            "Epoch 12/50\n",
            "5687/5687 [==============================] - 27s 5ms/step - loss: 0.0274 - categorical_accuracy: 0.9914 - recall_2: 0.9914 - precision_2: 0.9914 - val_loss: 0.0256 - val_categorical_accuracy: 0.9961 - val_recall_2: 0.9961 - val_precision_2: 0.9961\n",
            "Epoch 13/50\n",
            "5687/5687 [==============================] - 27s 5ms/step - loss: 0.0274 - categorical_accuracy: 0.9914 - recall_2: 0.9914 - precision_2: 0.9914 - val_loss: 0.0241 - val_categorical_accuracy: 0.9947 - val_recall_2: 0.9947 - val_precision_2: 0.9947\n",
            "Epoch 14/50\n",
            "5687/5687 [==============================] - 27s 5ms/step - loss: 0.0272 - categorical_accuracy: 0.9915 - recall_2: 0.9915 - precision_2: 0.9915 - val_loss: 0.0243 - val_categorical_accuracy: 0.9949 - val_recall_2: 0.9949 - val_precision_2: 0.9949\n",
            "Epoch 15/50\n",
            "5687/5687 [==============================] - 27s 5ms/step - loss: 0.0272 - categorical_accuracy: 0.9914 - recall_2: 0.9914 - precision_2: 0.9914 - val_loss: 0.0282 - val_categorical_accuracy: 0.9949 - val_recall_2: 0.9949 - val_precision_2: 0.9949\n",
            "Epoch 16/50\n",
            "5687/5687 [==============================] - 27s 5ms/step - loss: 0.0271 - categorical_accuracy: 0.9914 - recall_2: 0.9914 - precision_2: 0.9914 - val_loss: 0.0277 - val_categorical_accuracy: 0.9957 - val_recall_2: 0.9957 - val_precision_2: 0.9957\n",
            "Epoch 17/50\n",
            "5687/5687 [==============================] - 30s 5ms/step - loss: 0.0270 - categorical_accuracy: 0.9915 - recall_2: 0.9915 - precision_2: 0.9915 - val_loss: 0.0442 - val_categorical_accuracy: 0.9945 - val_recall_2: 0.9945 - val_precision_2: 0.9945\n",
            "Epoch 18/50\n",
            "5687/5687 [==============================] - 28s 5ms/step - loss: 0.0270 - categorical_accuracy: 0.9915 - recall_2: 0.9915 - precision_2: 0.9915 - val_loss: 0.0270 - val_categorical_accuracy: 0.9947 - val_recall_2: 0.9947 - val_precision_2: 0.9947\n",
            "Epoch 19/50\n",
            "5687/5687 [==============================] - 28s 5ms/step - loss: 0.0270 - categorical_accuracy: 0.9915 - recall_2: 0.9915 - precision_2: 0.9915 - val_loss: 0.0279 - val_categorical_accuracy: 0.9946 - val_recall_2: 0.9946 - val_precision_2: 0.9946\n",
            "Epoch 20/50\n",
            "5687/5687 [==============================] - 27s 5ms/step - loss: 0.0270 - categorical_accuracy: 0.9914 - recall_2: 0.9914 - precision_2: 0.9914 - val_loss: 0.0288 - val_categorical_accuracy: 0.9946 - val_recall_2: 0.9946 - val_precision_2: 0.9946\n",
            "Epoch 21/50\n",
            "5687/5687 [==============================] - 28s 5ms/step - loss: 0.0268 - categorical_accuracy: 0.9915 - recall_2: 0.9915 - precision_2: 0.9915 - val_loss: 0.0299 - val_categorical_accuracy: 0.9946 - val_recall_2: 0.9946 - val_precision_2: 0.9946\n",
            "Epoch 22/50\n",
            "5687/5687 [==============================] - 27s 5ms/step - loss: 0.0268 - categorical_accuracy: 0.9915 - recall_2: 0.9915 - precision_2: 0.9915 - val_loss: 0.0293 - val_categorical_accuracy: 0.9951 - val_recall_2: 0.9951 - val_precision_2: 0.9951\n",
            "Epoch 23/50\n",
            "5687/5687 [==============================] - 27s 5ms/step - loss: 0.0267 - categorical_accuracy: 0.9915 - recall_2: 0.9915 - precision_2: 0.9915 - val_loss: 0.0213 - val_categorical_accuracy: 0.9957 - val_recall_2: 0.9957 - val_precision_2: 0.9957\n",
            "Epoch 24/50\n",
            "5687/5687 [==============================] - 27s 5ms/step - loss: 0.0268 - categorical_accuracy: 0.9915 - recall_2: 0.9915 - precision_2: 0.9915 - val_loss: 0.0318 - val_categorical_accuracy: 0.9950 - val_recall_2: 0.9950 - val_precision_2: 0.9950\n",
            "Epoch 25/50\n",
            "5687/5687 [==============================] - 30s 5ms/step - loss: 0.0267 - categorical_accuracy: 0.9915 - recall_2: 0.9915 - precision_2: 0.9915 - val_loss: 0.0259 - val_categorical_accuracy: 0.9956 - val_recall_2: 0.9956 - val_precision_2: 0.9956\n",
            "Epoch 26/50\n",
            "5687/5687 [==============================] - 27s 5ms/step - loss: 0.0268 - categorical_accuracy: 0.9915 - recall_2: 0.9915 - precision_2: 0.9915 - val_loss: 0.0278 - val_categorical_accuracy: 0.9950 - val_recall_2: 0.9950 - val_precision_2: 0.9950\n",
            "Epoch 27/50\n",
            "5687/5687 [==============================] - 28s 5ms/step - loss: 0.0267 - categorical_accuracy: 0.9915 - recall_2: 0.9915 - precision_2: 0.9915 - val_loss: 0.0302 - val_categorical_accuracy: 0.9946 - val_recall_2: 0.9946 - val_precision_2: 0.9946\n",
            "Epoch 28/50\n",
            "5687/5687 [==============================] - 27s 5ms/step - loss: 0.0266 - categorical_accuracy: 0.9915 - recall_2: 0.9915 - precision_2: 0.9915 - val_loss: 0.0298 - val_categorical_accuracy: 0.9952 - val_recall_2: 0.9952 - val_precision_2: 0.9952\n",
            "Epoch 29/50\n",
            "5687/5687 [==============================] - 27s 5ms/step - loss: 0.0266 - categorical_accuracy: 0.9915 - recall_2: 0.9915 - precision_2: 0.9915 - val_loss: 0.0220 - val_categorical_accuracy: 0.9960 - val_recall_2: 0.9960 - val_precision_2: 0.9960\n",
            "Epoch 30/50\n",
            "5687/5687 [==============================] - 27s 5ms/step - loss: 0.0266 - categorical_accuracy: 0.9915 - recall_2: 0.9915 - precision_2: 0.9915 - val_loss: 0.0304 - val_categorical_accuracy: 0.9946 - val_recall_2: 0.9946 - val_precision_2: 0.9946\n",
            "Epoch 31/50\n",
            "5687/5687 [==============================] - 27s 5ms/step - loss: 0.0266 - categorical_accuracy: 0.9915 - recall_2: 0.9915 - precision_2: 0.9915 - val_loss: 0.0191 - val_categorical_accuracy: 0.9959 - val_recall_2: 0.9959 - val_precision_2: 0.9959\n",
            "Epoch 32/50\n",
            "5687/5687 [==============================] - 28s 5ms/step - loss: 0.0265 - categorical_accuracy: 0.9915 - recall_2: 0.9915 - precision_2: 0.9915 - val_loss: 0.0345 - val_categorical_accuracy: 0.9948 - val_recall_2: 0.9948 - val_precision_2: 0.9948\n",
            "Epoch 33/50\n",
            "5687/5687 [==============================] - 28s 5ms/step - loss: 0.0265 - categorical_accuracy: 0.9915 - recall_2: 0.9915 - precision_2: 0.9915 - val_loss: 0.0245 - val_categorical_accuracy: 0.9956 - val_recall_2: 0.9956 - val_precision_2: 0.9956\n",
            "Epoch 34/50\n",
            "5687/5687 [==============================] - 28s 5ms/step - loss: 0.0264 - categorical_accuracy: 0.9915 - recall_2: 0.9915 - precision_2: 0.9915 - val_loss: 0.0246 - val_categorical_accuracy: 0.9958 - val_recall_2: 0.9958 - val_precision_2: 0.9958\n",
            "Epoch 35/50\n",
            "5687/5687 [==============================] - 28s 5ms/step - loss: 0.0265 - categorical_accuracy: 0.9915 - recall_2: 0.9915 - precision_2: 0.9915 - val_loss: 0.0190 - val_categorical_accuracy: 0.9957 - val_recall_2: 0.9957 - val_precision_2: 0.9957\n",
            "Epoch 36/50\n",
            "5687/5687 [==============================] - 27s 5ms/step - loss: 0.0264 - categorical_accuracy: 0.9915 - recall_2: 0.9915 - precision_2: 0.9915 - val_loss: 0.0253 - val_categorical_accuracy: 0.9955 - val_recall_2: 0.9955 - val_precision_2: 0.9955\n",
            "Epoch 37/50\n",
            "5687/5687 [==============================] - 27s 5ms/step - loss: 0.0265 - categorical_accuracy: 0.9915 - recall_2: 0.9915 - precision_2: 0.9915 - val_loss: 0.0244 - val_categorical_accuracy: 0.9950 - val_recall_2: 0.9950 - val_precision_2: 0.9950\n",
            "Epoch 38/50\n",
            "5687/5687 [==============================] - 28s 5ms/step - loss: 0.0264 - categorical_accuracy: 0.9915 - recall_2: 0.9915 - precision_2: 0.9915 - val_loss: 0.0222 - val_categorical_accuracy: 0.9952 - val_recall_2: 0.9952 - val_precision_2: 0.9952\n",
            "Epoch 39/50\n",
            "5687/5687 [==============================] - 27s 5ms/step - loss: 0.0264 - categorical_accuracy: 0.9915 - recall_2: 0.9915 - precision_2: 0.9915 - val_loss: 0.0259 - val_categorical_accuracy: 0.9957 - val_recall_2: 0.9957 - val_precision_2: 0.9957\n",
            "Epoch 40/50\n",
            "5687/5687 [==============================] - 27s 5ms/step - loss: 0.0264 - categorical_accuracy: 0.9916 - recall_2: 0.9916 - precision_2: 0.9916 - val_loss: 0.0412 - val_categorical_accuracy: 0.9949 - val_recall_2: 0.9949 - val_precision_2: 0.9949\n",
            "Epoch 41/50\n",
            "5687/5687 [==============================] - 27s 5ms/step - loss: 0.0264 - categorical_accuracy: 0.9916 - recall_2: 0.9916 - precision_2: 0.9916 - val_loss: 0.0210 - val_categorical_accuracy: 0.9959 - val_recall_2: 0.9959 - val_precision_2: 0.9959\n",
            "Epoch 42/50\n",
            "5687/5687 [==============================] - 29s 5ms/step - loss: 0.0263 - categorical_accuracy: 0.9916 - recall_2: 0.9916 - precision_2: 0.9916 - val_loss: 0.0303 - val_categorical_accuracy: 0.9954 - val_recall_2: 0.9954 - val_precision_2: 0.9954\n",
            "Epoch 43/50\n",
            "5687/5687 [==============================] - 27s 5ms/step - loss: 0.0263 - categorical_accuracy: 0.9915 - recall_2: 0.9915 - precision_2: 0.9915 - val_loss: 0.0214 - val_categorical_accuracy: 0.9957 - val_recall_2: 0.9957 - val_precision_2: 0.9957\n",
            "Epoch 44/50\n",
            "5687/5687 [==============================] - 27s 5ms/step - loss: 0.0263 - categorical_accuracy: 0.9916 - recall_2: 0.9916 - precision_2: 0.9916 - val_loss: 0.0205 - val_categorical_accuracy: 0.9954 - val_recall_2: 0.9954 - val_precision_2: 0.9954\n",
            "Epoch 45/50\n",
            "5687/5687 [==============================] - 28s 5ms/step - loss: 0.0263 - categorical_accuracy: 0.9916 - recall_2: 0.9916 - precision_2: 0.9916 - val_loss: 0.0221 - val_categorical_accuracy: 0.9951 - val_recall_2: 0.9951 - val_precision_2: 0.9951\n",
            "Epoch 46/50\n",
            "5687/5687 [==============================] - 28s 5ms/step - loss: 0.0264 - categorical_accuracy: 0.9915 - recall_2: 0.9915 - precision_2: 0.9915 - val_loss: 0.0249 - val_categorical_accuracy: 0.9943 - val_recall_2: 0.9943 - val_precision_2: 0.9943\n",
            "Epoch 47/50\n",
            "5687/5687 [==============================] - 28s 5ms/step - loss: 0.0264 - categorical_accuracy: 0.9915 - recall_2: 0.9915 - precision_2: 0.9915 - val_loss: 0.0219 - val_categorical_accuracy: 0.9957 - val_recall_2: 0.9957 - val_precision_2: 0.9957\n",
            "Epoch 48/50\n",
            "5687/5687 [==============================] - 28s 5ms/step - loss: 0.0262 - categorical_accuracy: 0.9916 - recall_2: 0.9916 - precision_2: 0.9916 - val_loss: 0.0252 - val_categorical_accuracy: 0.9954 - val_recall_2: 0.9954 - val_precision_2: 0.9954\n",
            "Epoch 49/50\n",
            "5687/5687 [==============================] - 27s 5ms/step - loss: 0.0262 - categorical_accuracy: 0.9916 - recall_2: 0.9916 - precision_2: 0.9916 - val_loss: 0.0245 - val_categorical_accuracy: 0.9954 - val_recall_2: 0.9954 - val_precision_2: 0.9954\n",
            "Epoch 50/50\n",
            "5687/5687 [==============================] - 29s 5ms/step - loss: 0.0262 - categorical_accuracy: 0.9916 - recall_2: 0.9916 - precision_2: 0.9916 - val_loss: 0.0228 - val_categorical_accuracy: 0.9959 - val_recall_2: 0.9959 - val_precision_2: 0.9959\n"
          ]
        }
      ]
    },
    {
      "cell_type": "code",
      "source": [
        "final_model.save('final_model')\n",
        "final_report = pd.DataFrame(final_report.history)\n",
        "final_report.to_csv('final_report.csv')\n"
      ],
      "metadata": {
        "id": "nr7cwiYRxstd",
        "outputId": "74f8a1ee-eff8-4618-f41b-546332b1f2ec",
        "colab": {
          "base_uri": "https://localhost:8080/",
          "height": 282
        }
      },
      "execution_count": 40,
      "outputs": [
        {
          "output_type": "execute_result",
          "data": {
            "text/plain": [
              "<matplotlib.axes._subplots.AxesSubplot at 0x7f8b54f36280>"
            ]
          },
          "metadata": {},
          "execution_count": 40
        },
        {
          "output_type": "display_data",
          "data": {
            "text/plain": [
              "<Figure size 432x288 with 1 Axes>"
            ],
            "image/png": "[encoded data removed]"
          },
          "metadata": {
            "needs_background": "light"
          }
        }
      ]
    },
    {
      "cell_type": "code",
      "source": [
        "final_report.plot(y=['loss','val_loss'])\n",
        "final_report.plot(y=['categorical_accuracy','val_categorical_accuracy'])\n",
        "final_report.plot(y=['precision_2','val_precision_2'])\n",
        "final_report.plot(y=['recall_2','val_recall_2'])"
      ],
      "metadata": {
        "id": "rGKj5CxFyzNU",
        "outputId": "b6050387-b28a-435a-8c52-019635e60509",
        "colab": {
          "base_uri": "https://localhost:8080/",
          "height": 1000
        }
      },
      "execution_count": 43,
      "outputs": [
        {
          "output_type": "execute_result",
          "data": {
            "text/plain": [
              "<matplotlib.axes._subplots.AxesSubplot at 0x7f8b7665ab50>"
            ]
          },
          "metadata": {},
          "execution_count": 43
        },
        {
          "output_type": "display_data",
          "data": {
            "text/plain": [
              "<Figure size 432x288 with 1 Axes>"
            ],
            "image/png": "[encoded data removed]"
          },
          "metadata": {
            "needs_background": "light"
          }
        },
        {
          "output_type": "display_data",
          "data": {
            "text/plain": [
              "<Figure size 432x288 with 1 Axes>"
            ],
            "image/png": "[encoded data removed]"
          },
          "metadata": {
            "needs_background": "light"
          }
        },
        {
          "output_type": "display_data",
          "data": {
            "text/plain": [
              "<Figure size 432x288 with 1 Axes>"
            ],
            "image/png": "[encoded data removed]"
          },
          "metadata": {
            "needs_background": "light"
          }
        },
        {
          "output_type": "display_data",
          "data": {
            "text/plain": [
              "<Figure size 432x288 with 1 Axes>"
            ],
            "image/png": "[encoded data removed]"
          },
          "metadata": {
            "needs_background": "light"
          }
        }
      ]
    },
    {
      "cell_type": "code",
      "source": [
        "X_test['Amount']\n",
        "X_test['Amount_normal'] = standard_scaler.transform(X_test['Amount'].to_numpy().reshape((-1,1)))\n",
        "X_test.drop(columns=['Amount'],inplace=True)\n",
        "            \n",
        "y_pred = final_model.predict(X_test)\n",
        "\n"
      ],
      "metadata": {
        "id": "B-OAE4X7zIDL",
        "outputId": "dd1c0075-b055-41f2-bdee-75e698051993",
        "colab": {
          "base_uri": "https://localhost:8080/"
        }
      },
      "execution_count": 46,
      "outputs": [
        {
          "output_type": "stream",
          "name": "stdout",
          "text": [
            "1781/1781 [==============================] - 3s 2ms/step\n"
          ]
        }
      ]
    },
    {
      "cell_type": "code",
      "source": [
        "X_test.mean()"
      ],
      "metadata": {
        "id": "xM79swof2AsM",
        "outputId": "08384fd2-7aeb-4063-f49a-78f1632a27e3",
        "colab": {
          "base_uri": "https://localhost:8080/"
        }
      },
      "execution_count": 54,
      "outputs": [
        {
          "output_type": "execute_result",
          "data": {
            "text/plain": [
              "V1              -0.011720\n",
              "V2               0.003508\n",
              "V3               0.005881\n",
              "V4              -0.004524\n",
              "V5               0.006858\n",
              "V6               0.004139\n",
              "V7               0.001644\n",
              "V8               0.005440\n",
              "V9               0.000074\n",
              "V10             -0.005986\n",
              "V11              0.002927\n",
              "V12              0.003958\n",
              "V13             -0.003264\n",
              "V14             -0.003967\n",
              "V15             -0.002431\n",
              "V16              0.000523\n",
              "V17             -0.002629\n",
              "V18              0.002940\n",
              "V19             -0.001246\n",
              "V20             -0.007101\n",
              "V21             -0.001065\n",
              "V22             -0.001201\n",
              "V23              0.001104\n",
              "V24             -0.002750\n",
              "V25             -0.000767\n",
              "V26              0.002337\n",
              "V27              0.002295\n",
              "V28              0.000541\n",
              "Amount_normal   -0.005656\n",
              "dtype: float64"
            ]
          },
          "metadata": {},
          "execution_count": 54
        }
      ]
    },
    {
      "cell_type": "code",
      "source": [
        "# from sklearn.metrics import confusion_matrix\n",
        "# plt.plot(y_pred[:100,0])\n",
        "# plt.show()\n",
        "# plt.plot(y_pred[:100,1])\n",
        "# plt.show()\n",
        "# plt.plot(y_test[:10000])\n",
        "# plt.show()\n",
        "# y_pred_label = np.logical_not(np.argmax(y_pred,axis=1))\n",
        "# cm = confusion_matrix(y_test,y_pred_label)\n",
        "# sns.heatmap(cm,cbar=False,annot=True)"
      ],
      "metadata": {
        "id": "OKxM7Jw20Yj1",
        "outputId": "52fa7e10-b1a9-4c6d-9a73-192580d2c183",
        "colab": {
          "base_uri": "https://localhost:8080/",
          "height": 761
        }
      },
      "execution_count": 64,
      "outputs": [
        {
          "output_type": "display_data",
          "data": {
            "text/plain": [
              "<Figure size 432x288 with 1 Axes>"
            ],
            "image/png": "[encoded data removed]"
          },
          "metadata": {
            "needs_background": "light"
          }
        },
        {
          "output_type": "display_data",
          "data": {
            "text/plain": [
              "<Figure size 432x288 with 1 Axes>"
            ],
            "image/png": "[encoded data removed]"
          },
          "metadata": {
            "needs_background": "light"
          }
        },
        {
          "output_type": "display_data",
          "data": {
            "text/plain": [
              "<Figure size 432x288 with 1 Axes>"
            ],
            "image/png": "[encoded data removed]"
          },
          "metadata": {
            "needs_background": "light"
          }
        }
      ]
    }
  ],
  "metadata": {
    "colab": {
      "name": "Welcome To Colaboratory",
      "provenance": [],
      "include_colab_link": true
    },
    "kernelspec": {
      "display_name": "Python 3",
      "name": "python3"
    },
    "accelerator": "GPU",
    "gpuClass": "standard"
  },
  "nbformat": 4,
  "nbformat_minor": 0
}