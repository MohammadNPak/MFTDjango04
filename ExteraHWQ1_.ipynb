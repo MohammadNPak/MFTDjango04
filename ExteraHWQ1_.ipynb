{
  "nbformat": 4,
  "nbformat_minor": 0,
  "metadata": {
    "colab": {
      "provenance": [],
      "authorship_tag": "ABX9TyMPwwHzQaWianBgcKznsdjZ",
      "include_colab_link": true
    },
    "kernelspec": {
      "name": "python3",
      "display_name": "Python 3"
    },
    "language_info": {
      "name": "python"
    },
    "accelerator": "GPU",
    "gpuClass": "standard"
  },
  "cells": [
    {
      "cell_type": "markdown",
      "metadata": {
        "id": "view-in-github",
        "colab_type": "text"
      },
      "source": [
        "<a href=\"https://colab.research.google.com/github/MohammadNPak/MFTDjango04/blob/master/ExteraHWQ1_.ipynb\" target=\"_parent\"><img src=\"https://colab.research.google.com/assets/colab-badge.svg\" alt=\"Open In Colab\"/></a>"
      ]
    },
    {
      "cell_type": "code",
      "execution_count": null,
      "metadata": {
        "id": "PEqmNCdpaGwF"
      },
      "outputs": [],
      "source": []
    },
    {
      "cell_type": "code",
      "source": [
        "from google.colab import drive\n",
        "drive.mount('/content/drive')"
      ],
      "metadata": {
        "colab": {
          "base_uri": "https://localhost:8080/"
        },
        "id": "kk6OE4jIbUdI",
        "outputId": "14680270-151c-4872-ecb7-44896736dd5a"
      },
      "execution_count": 2,
      "outputs": [
        {
          "output_type": "stream",
          "name": "stdout",
          "text": [
            "Mounted at /content/drive\n"
          ]
        }
      ]
    },
    {
      "cell_type": "code",
      "source": [
        "!unzip /content/drive/MyDrive/NNDL/HWExtera/Q1/archive_card.zip -d ./dataset"
      ],
      "metadata": {
        "colab": {
          "base_uri": "https://localhost:8080/"
        },
        "id": "ttt_zM1tbzh2",
        "outputId": "39c1fce6-6db9-4fff-8209-c443700cbdf2"
      },
      "execution_count": 6,
      "outputs": [
        {
          "output_type": "stream",
          "name": "stdout",
          "text": [
            "Archive:  /content/drive/MyDrive/NNDL/HWExtera/Q1/archive_card.zip\n",
            "  inflating: ./dataset/creditcard.csv  \n"
          ]
        }
      ]
    },
    {
      "cell_type": "code",
      "source": [
        "import tensorflow as tf\n",
        "from tensorflow import keras \n",
        "import pandas as pd\n",
        "import numpy as np\n",
        "from matplotlib import pyplot as plt\n",
        "import seaborn as sns\n",
        "from sklearn.model_selection import train_test_split\n",
        "from sklearn.preprocessing import StandardScaler\n",
        "\n",
        "data_csv = pd.read_csv('/content/dataset/creditcard.csv')\n",
        "data_csv.info()\n",
        "data_csv.drop(columns=['Time'],inplace=True)\n",
        "Y=data_csv['Class']\n",
        "X=data_csv.drop(columns=['Class'])\n",
        "X_train,X_test,y_train,y_test = train_test_split(X,Y.to_numpy().reshape((-1,1)),train_size=0.8,random_state=0)\n",
        "standard_scaler=StandardScaler().fit(X_train['Amount'].to_numpy().reshape((-1,1)))\n",
        "\n",
        "standard_scaler=StandardScaler().fit(X_train['Amount'].to_numpy().reshape((-1,1)))\n",
        "X_train['Amount_normal'] = standard_scaler.transform(X_train['Amount'].to_numpy().reshape((-1,1))).reshape((-1,))\n",
        "X_train.drop(columns=['Amount'],inplace=True)\n",
        "print(X_train.mean())\n",
        "print(X_train.var())\n"
      ],
      "metadata": {
        "colab": {
          "base_uri": "https://localhost:8080/"
        },
        "id": "dXuKhtS8bd9m",
        "outputId": "7e00bed3-aff8-4f7a-f802-985004346a5c"
      },
      "execution_count": 88,
      "outputs": [
        {
          "output_type": "stream",
          "name": "stdout",
          "text": [
            "<class 'pandas.core.frame.DataFrame'>\n",
            "RangeIndex: 284807 entries, 0 to 284806\n",
            "Data columns (total 31 columns):\n",
            " #   Column  Non-Null Count   Dtype  \n",
            "---  ------  --------------   -----  \n",
            " 0   Time    284807 non-null  float64\n",
            " 1   V1      284807 non-null  float64\n",
            " 2   V2      284807 non-null  float64\n",
            " 3   V3      284807 non-null  float64\n",
            " 4   V4      284807 non-null  float64\n",
            " 5   V5      284807 non-null  float64\n",
            " 6   V6      284807 non-null  float64\n",
            " 7   V7      284807 non-null  float64\n",
            " 8   V8      284807 non-null  float64\n",
            " 9   V9      284807 non-null  float64\n",
            " 10  V10     284807 non-null  float64\n",
            " 11  V11     284807 non-null  float64\n",
            " 12  V12     284807 non-null  float64\n",
            " 13  V13     284807 non-null  float64\n",
            " 14  V14     284807 non-null  float64\n",
            " 15  V15     284807 non-null  float64\n",
            " 16  V16     284807 non-null  float64\n",
            " 17  V17     284807 non-null  float64\n",
            " 18  V18     284807 non-null  float64\n",
            " 19  V19     284807 non-null  float64\n",
            " 20  V20     284807 non-null  float64\n",
            " 21  V21     284807 non-null  float64\n",
            " 22  V22     284807 non-null  float64\n",
            " 23  V23     284807 non-null  float64\n",
            " 24  V24     284807 non-null  float64\n",
            " 25  V25     284807 non-null  float64\n",
            " 26  V26     284807 non-null  float64\n",
            " 27  V27     284807 non-null  float64\n",
            " 28  V28     284807 non-null  float64\n",
            " 29  Amount  284807 non-null  float64\n",
            " 30  Class   284807 non-null  int64  \n",
            "dtypes: float64(30), int64(1)\n",
            "memory usage: 67.4 MB\n",
            "V1               2.930102e-03\n",
            "V2              -8.770873e-04\n",
            "V3              -1.470194e-03\n",
            "V4               1.131120e-03\n",
            "V5              -1.714407e-03\n",
            "V6              -1.034694e-03\n",
            "V7              -4.110980e-04\n",
            "V8              -1.359943e-03\n",
            "V9              -1.842561e-05\n",
            "V10              1.496398e-03\n",
            "V11             -7.316551e-04\n",
            "V12             -9.895529e-04\n",
            "V13              8.159044e-04\n",
            "V14              9.918070e-04\n",
            "V15              6.078473e-04\n",
            "V16             -1.308460e-04\n",
            "V17              6.572134e-04\n",
            "V18             -7.350219e-04\n",
            "V19              3.116051e-04\n",
            "V20              1.775156e-03\n",
            "V21              2.661591e-04\n",
            "V22              3.002196e-04\n",
            "V23             -2.758811e-04\n",
            "V24              6.874714e-04\n",
            "V25              1.916558e-04\n",
            "V26             -5.841437e-04\n",
            "V27             -5.737755e-04\n",
            "V28             -1.351573e-04\n",
            "Amount_normal   -5.338933e-17\n",
            "dtype: float64\n",
            "V1               3.823060\n",
            "V2               2.721418\n",
            "V3               2.295392\n",
            "V4               2.006077\n",
            "V5               1.865852\n",
            "V6               1.759347\n",
            "V7               1.501401\n",
            "V8               1.453250\n",
            "V9               1.209937\n",
            "V10              1.190480\n",
            "V11              1.039764\n",
            "V12              0.995747\n",
            "V13              0.994644\n",
            "V14              0.914763\n",
            "V15              0.837816\n",
            "V16              0.767089\n",
            "V17              0.722768\n",
            "V18              0.701739\n",
            "V19              0.664330\n",
            "V20              0.585038\n",
            "V21              0.544043\n",
            "V22              0.528100\n",
            "V23              0.388221\n",
            "V24              0.366349\n",
            "V25              0.271269\n",
            "V26              0.232269\n",
            "V27              0.161117\n",
            "V28              0.102880\n",
            "Amount_normal    1.000004\n",
            "dtype: float64\n"
          ]
        }
      ]
    },
    {
      "cell_type": "code",
      "source": [
        "!pip install -U imbalanced-learn"
      ],
      "metadata": {
        "colab": {
          "base_uri": "https://localhost:8080/"
        },
        "id": "CcPTiCMipiIv",
        "outputId": "966ebb0d-bfe7-49c7-a06a-779fec5c522d"
      },
      "execution_count": 65,
      "outputs": [
        {
          "output_type": "stream",
          "name": "stdout",
          "text": [
            "Looking in indexes: https://pypi.org/simple, https://us-python.pkg.dev/colab-wheels/public/simple/\n",
            "Requirement already satisfied: imbalanced-learn in /usr/local/lib/python3.8/dist-packages (0.8.1)\n",
            "Collecting imbalanced-learn\n",
            "  Downloading imbalanced_learn-0.10.0-py3-none-any.whl (225 kB)\n",
            "\u001b[K     |████████████████████████████████| 225 kB 4.7 MB/s \n",
            "\u001b[?25hRequirement already satisfied: scikit-learn>=1.0.2 in /usr/local/lib/python3.8/dist-packages (from imbalanced-learn) (1.0.2)\n",
            "Requirement already satisfied: numpy>=1.17.3 in /usr/local/lib/python3.8/dist-packages (from imbalanced-learn) (1.21.6)\n",
            "Requirement already satisfied: joblib>=1.1.1 in /usr/local/lib/python3.8/dist-packages (from imbalanced-learn) (1.2.0)\n",
            "Requirement already satisfied: scipy>=1.3.2 in /usr/local/lib/python3.8/dist-packages (from imbalanced-learn) (1.7.3)\n",
            "Requirement already satisfied: threadpoolctl>=2.0.0 in /usr/local/lib/python3.8/dist-packages (from imbalanced-learn) (3.1.0)\n",
            "Installing collected packages: imbalanced-learn\n",
            "  Attempting uninstall: imbalanced-learn\n",
            "    Found existing installation: imbalanced-learn 0.8.1\n",
            "    Uninstalling imbalanced-learn-0.8.1:\n",
            "      Successfully uninstalled imbalanced-learn-0.8.1\n",
            "Successfully installed imbalanced-learn-0.10.0\n"
          ]
        }
      ]
    },
    {
      "cell_type": "code",
      "source": [
        "from imblearn.over_sampling import SMOTE\n",
        "sm = SMOTE()\n",
        "X_train.isna().sum()\n",
        "\n",
        "X_res, y_res = sm.fit_resample(X_train, y_train)\n",
        "\n",
        "print(X_res.shape)\n",
        "print(X_train.shape)\n",
        "X_res.groupby(by=y_res).var()\n",
        "X_res.groupby(by=y_res).mean()"
      ],
      "metadata": {
        "colab": {
          "base_uri": "https://localhost:8080/",
          "height": 211
        },
        "id": "7YKeoZgJquPP",
        "outputId": "4908b509-e378-48c2-c8cf-9c4ee5683e15"
      },
      "execution_count": 99,
      "outputs": [
        {
          "output_type": "stream",
          "name": "stdout",
          "text": [
            "(454908, 29)\n",
            "(227845, 29)\n"
          ]
        },
        {
          "output_type": "execute_result",
          "data": {
            "text/plain": [
              "         V1        V2        V3  ...       V27       V28  Amount_normal\n",
              "0  0.011422 -0.007255  0.010792  ... -0.000713 -0.000306      -0.000256\n",
              "1 -4.816106  3.747439 -7.069022  ...  0.086996  0.111183       0.085740\n",
              "\n",
              "[2 rows x 29 columns]"
            ],
            "text/html": [
              "\n",
              "  <div id=\"df-64bbb727-5200-4c1e-bd44-8c6abec92d13\">\n",
              "    <div class=\"colab-df-container\">\n",
              "      <div>\n",
              "<style scoped>\n",
              "    .dataframe tbody tr th:only-of-type {\n",
              "        vertical-align: middle;\n",
              "    }\n",
              "\n",
              "    .dataframe tbody tr th {\n",
              "        vertical-align: top;\n",
              "    }\n",
              "\n",
              "    .dataframe thead th {\n",
              "        text-align: right;\n",
              "    }\n",
              "</style>\n",
              "<table border=\"1\" class=\"dataframe\">\n",
              "  <thead>\n",
              "    <tr style=\"text-align: right;\">\n",
              "      <th></th>\n",
              "      <th>V1</th>\n",
              "      <th>V2</th>\n",
              "      <th>V3</th>\n",
              "      <th>V4</th>\n",
              "      <th>V5</th>\n",
              "      <th>V6</th>\n",
              "      <th>V7</th>\n",
              "      <th>V8</th>\n",
              "      <th>V9</th>\n",
              "      <th>V10</th>\n",
              "      <th>V11</th>\n",
              "      <th>V12</th>\n",
              "      <th>V13</th>\n",
              "      <th>V14</th>\n",
              "      <th>V15</th>\n",
              "      <th>V16</th>\n",
              "      <th>V17</th>\n",
              "      <th>V18</th>\n",
              "      <th>V19</th>\n",
              "      <th>V20</th>\n",
              "      <th>V21</th>\n",
              "      <th>V22</th>\n",
              "      <th>V23</th>\n",
              "      <th>V24</th>\n",
              "      <th>V25</th>\n",
              "      <th>V26</th>\n",
              "      <th>V27</th>\n",
              "      <th>V28</th>\n",
              "      <th>Amount_normal</th>\n",
              "    </tr>\n",
              "  </thead>\n",
              "  <tbody>\n",
              "    <tr>\n",
              "      <th>0</th>\n",
              "      <td>0.011422</td>\n",
              "      <td>-0.007255</td>\n",
              "      <td>0.010792</td>\n",
              "      <td>-0.006585</td>\n",
              "      <td>0.004003</td>\n",
              "      <td>0.001349</td>\n",
              "      <td>0.009418</td>\n",
              "      <td>-0.002337</td>\n",
              "      <td>0.004375</td>\n",
              "      <td>0.011157</td>\n",
              "      <td>-0.007111</td>\n",
              "      <td>0.009557</td>\n",
              "      <td>0.000992</td>\n",
              "      <td>0.012712</td>\n",
              "      <td>0.000768</td>\n",
              "      <td>0.006916</td>\n",
              "      <td>0.012155</td>\n",
              "      <td>0.003170</td>\n",
              "      <td>-0.000851</td>\n",
              "      <td>0.001132</td>\n",
              "      <td>-0.001134</td>\n",
              "      <td>0.000372</td>\n",
              "      <td>-0.000219</td>\n",
              "      <td>0.000842</td>\n",
              "      <td>0.000103</td>\n",
              "      <td>-0.000672</td>\n",
              "      <td>-0.000713</td>\n",
              "      <td>-0.000306</td>\n",
              "      <td>-0.000256</td>\n",
              "    </tr>\n",
              "    <tr>\n",
              "      <th>1</th>\n",
              "      <td>-4.816106</td>\n",
              "      <td>3.747439</td>\n",
              "      <td>-7.069022</td>\n",
              "      <td>4.432837</td>\n",
              "      <td>-3.354335</td>\n",
              "      <td>-1.438939</td>\n",
              "      <td>-5.659201</td>\n",
              "      <td>0.759590</td>\n",
              "      <td>-2.609364</td>\n",
              "      <td>-5.684958</td>\n",
              "      <td>3.710945</td>\n",
              "      <td>-6.102210</td>\n",
              "      <td>-0.111920</td>\n",
              "      <td>-6.898622</td>\n",
              "      <td>-0.053717</td>\n",
              "      <td>-4.107234</td>\n",
              "      <td>-6.781736</td>\n",
              "      <td>-2.285896</td>\n",
              "      <td>0.679280</td>\n",
              "      <td>0.366391</td>\n",
              "      <td>0.858869</td>\n",
              "      <td>-0.068277</td>\n",
              "      <td>-0.006000</td>\n",
              "      <td>-0.086071</td>\n",
              "      <td>0.095218</td>\n",
              "      <td>0.054002</td>\n",
              "      <td>0.086996</td>\n",
              "      <td>0.111183</td>\n",
              "      <td>0.085740</td>\n",
              "    </tr>\n",
              "  </tbody>\n",
              "</table>\n",
              "</div>\n",
              "      <button class=\"colab-df-convert\" onclick=\"convertToInteractive('df-64bbb727-5200-4c1e-bd44-8c6abec92d13')\"\n",
              "              title=\"Convert this dataframe to an interactive table.\"\n",
              "              style=\"display:none;\">\n",
              "        \n",
              "  <svg xmlns=\"http://www.w3.org/2000/svg\" height=\"24px\"viewBox=\"0 0 24 24\"\n",
              "       width=\"24px\">\n",
              "    <path d=\"M0 0h24v24H0V0z\" fill=\"none\"/>\n",
              "    <path d=\"M18.56 5.44l.94 2.06.94-2.06 2.06-.94-2.06-.94-.94-2.06-.94 2.06-2.06.94zm-11 1L8.5 8.5l.94-2.06 2.06-.94-2.06-.94L8.5 2.5l-.94 2.06-2.06.94zm10 10l.94 2.06.94-2.06 2.06-.94-2.06-.94-.94-2.06-.94 2.06-2.06.94z\"/><path d=\"M17.41 7.96l-1.37-1.37c-.4-.4-.92-.59-1.43-.59-.52 0-1.04.2-1.43.59L10.3 9.45l-7.72 7.72c-.78.78-.78 2.05 0 2.83L4 21.41c.39.39.9.59 1.41.59.51 0 1.02-.2 1.41-.59l7.78-7.78 2.81-2.81c.8-.78.8-2.07 0-2.86zM5.41 20L4 18.59l7.72-7.72 1.47 1.35L5.41 20z\"/>\n",
              "  </svg>\n",
              "      </button>\n",
              "      \n",
              "  <style>\n",
              "    .colab-df-container {\n",
              "      display:flex;\n",
              "      flex-wrap:wrap;\n",
              "      gap: 12px;\n",
              "    }\n",
              "\n",
              "    .colab-df-convert {\n",
              "      background-color: #E8F0FE;\n",
              "      border: none;\n",
              "      border-radius: 50%;\n",
              "      cursor: pointer;\n",
              "      display: none;\n",
              "      fill: #1967D2;\n",
              "      height: 32px;\n",
              "      padding: 0 0 0 0;\n",
              "      width: 32px;\n",
              "    }\n",
              "\n",
              "    .colab-df-convert:hover {\n",
              "      background-color: #E2EBFA;\n",
              "      box-shadow: 0px 1px 2px rgba(60, 64, 67, 0.3), 0px 1px 3px 1px rgba(60, 64, 67, 0.15);\n",
              "      fill: #174EA6;\n",
              "    }\n",
              "\n",
              "    [theme=dark] .colab-df-convert {\n",
              "      background-color: #3B4455;\n",
              "      fill: #D2E3FC;\n",
              "    }\n",
              "\n",
              "    [theme=dark] .colab-df-convert:hover {\n",
              "      background-color: #434B5C;\n",
              "      box-shadow: 0px 1px 3px 1px rgba(0, 0, 0, 0.15);\n",
              "      filter: drop-shadow(0px 1px 2px rgba(0, 0, 0, 0.3));\n",
              "      fill: #FFFFFF;\n",
              "    }\n",
              "  </style>\n",
              "\n",
              "      <script>\n",
              "        const buttonEl =\n",
              "          document.querySelector('#df-64bbb727-5200-4c1e-bd44-8c6abec92d13 button.colab-df-convert');\n",
              "        buttonEl.style.display =\n",
              "          google.colab.kernel.accessAllowed ? 'block' : 'none';\n",
              "\n",
              "        async function convertToInteractive(key) {\n",
              "          const element = document.querySelector('#df-64bbb727-5200-4c1e-bd44-8c6abec92d13');\n",
              "          const dataTable =\n",
              "            await google.colab.kernel.invokeFunction('convertToInteractive',\n",
              "                                                     [key], {});\n",
              "          if (!dataTable) return;\n",
              "\n",
              "          const docLinkHtml = 'Like what you see? Visit the ' +\n",
              "            '<a target=\"_blank\" href=https://colab.research.google.com/notebooks/data_table.ipynb>data table notebook</a>'\n",
              "            + ' to learn more about interactive tables.';\n",
              "          element.innerHTML = '';\n",
              "          dataTable['output_type'] = 'display_data';\n",
              "          await google.colab.output.renderOutput(dataTable, element);\n",
              "          const docLink = document.createElement('div');\n",
              "          docLink.innerHTML = docLinkHtml;\n",
              "          element.appendChild(docLink);\n",
              "        }\n",
              "      </script>\n",
              "    </div>\n",
              "  </div>\n",
              "  "
            ]
          },
          "metadata": {},
          "execution_count": 99
        }
      ]
    },
    {
      "cell_type": "code",
      "source": [
        "from tensorflow.keras.layers import Dense\n",
        "from tensorflow.keras import metrics\n",
        "from tensorflow.keras.optimizers import Adam\n",
        "from tensorflow.keras.losses import MeanSquaredError\n",
        "from tensorflow.keras.models import Sequential\n",
        "\n",
        "noise = np.random.normal(0,0.1,X_res.size).reshape(X_res.shape)\n",
        "X_noise = X_res+noise\n",
        "\n",
        "model = Sequential([\n",
        "    Dense(29),\n",
        "    Dense(22),\n",
        "    Dense(15),\n",
        "    Dense(10),\n",
        "    Dense(15),\n",
        "    Dense(22),\n",
        "    Dense(29)]\n",
        ")\n",
        "\n",
        "\n",
        "model.compile(\n",
        "    optimizer=Adam(),\n",
        "    loss=MeanSquaredError(),\n",
        "    metrics=[metrics.MeanSquaredError()]\n",
        ")\n",
        "\n",
        "report = model.fit(x=X_noise,\n",
        "          y=X_res,\n",
        "          batch_size=32,\n",
        "          epochs=50,\n",
        "          validation_split=0.1)\n",
        "\n",
        "\n"
      ],
      "metadata": {
        "colab": {
          "base_uri": "https://localhost:8080/"
        },
        "id": "BMy0soOBdIY_",
        "outputId": "1a87de6e-3734-46b3-8e2b-40c95e2706ad"
      },
      "execution_count": null,
      "outputs": [
        {
          "output_type": "stream",
          "name": "stdout",
          "text": [
            "Epoch 1/50\n",
            "12795/12795 [==============================] - 42s 3ms/step - loss: 0.5445 - mean_squared_error: 0.5445 - val_loss: 0.3425 - val_mean_squared_error: 0.3425\n",
            "Epoch 2/50\n",
            "12795/12795 [==============================] - 40s 3ms/step - loss: 0.4173 - mean_squared_error: 0.4173 - val_loss: 0.3602 - val_mean_squared_error: 0.3602\n",
            "Epoch 3/50\n",
            "12795/12795 [==============================] - 39s 3ms/step - loss: 0.4163 - mean_squared_error: 0.4163 - val_loss: 0.3324 - val_mean_squared_error: 0.3324\n",
            "Epoch 4/50\n",
            "12795/12795 [==============================] - 39s 3ms/step - loss: 0.4154 - mean_squared_error: 0.4154 - val_loss: 0.3349 - val_mean_squared_error: 0.3349\n",
            "Epoch 5/50\n",
            "12795/12795 [==============================] - 40s 3ms/step - loss: 0.4149 - mean_squared_error: 0.4149 - val_loss: 0.3469 - val_mean_squared_error: 0.3469\n",
            "Epoch 6/50\n",
            "12795/12795 [==============================] - 39s 3ms/step - loss: 0.4140 - mean_squared_error: 0.4140 - val_loss: 0.3297 - val_mean_squared_error: 0.3297\n",
            "Epoch 7/50\n",
            "12795/12795 [==============================] - 39s 3ms/step - loss: 0.4142 - mean_squared_error: 0.4142 - val_loss: 0.3315 - val_mean_squared_error: 0.3315\n",
            "Epoch 8/50\n",
            " 4255/12795 [========>.....................] - ETA: 24s - loss: 0.4134 - mean_squared_error: 0.4134"
          ]
        }
      ]
    },
    {
      "cell_type": "code",
      "source": [],
      "metadata": {
        "colab": {
          "base_uri": "https://localhost:8080/"
        },
        "id": "pLaYE4WjkYOx",
        "outputId": "e10e73fb-3ed9-4efa-a80e-d111760cc694"
      },
      "execution_count": 47,
      "outputs": [
        {
          "output_type": "stream",
          "name": "stdout",
          "text": [
            "0.9918844867511926\n",
            "-0.0005978115418972532\n"
          ]
        }
      ]
    }
  ]
}