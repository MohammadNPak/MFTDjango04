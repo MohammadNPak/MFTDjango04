{
  "cells": [
    {
      "cell_type": "markdown",
      "metadata": {
        "id": "view-in-github",
        "colab_type": "text"
      },
      "source": [
        "<a href=\"https://colab.research.google.com/github/MohammadNPak/MFTDjango04/blob/master/Welcome_To_Colaboratory.ipynb\" target=\"_parent\"><img src=\"https://colab.research.google.com/assets/colab-badge.svg\" alt=\"Open In Colab\"/></a>"
      ]
    },
    {
      "cell_type": "code",
      "source": [
        "import numpy as np\n",
        "import pandas as pd\n",
        "from matplotlib import pyplot as plt\n",
        "import tensorflow as tf\n",
        "from tensorflow import keras\n",
        "from tensorflow.keras.datasets import cifar10\n",
        "from sklearn.model_selection import train_test_split\n",
        "\n",
        "(x_train, y_train), (x_test, y_test) = cifar10.load_data()\n",
        "print(x_train.shape,y_train.shape)\n"
      ],
      "metadata": {
        "colab": {
          "base_uri": "https://localhost:8080/"
        },
        "id": "44hjTpOXEm-l",
        "outputId": "d926a148-9cae-41bd-aa14-691d1d58a9e5"
      },
      "execution_count": 6,
      "outputs": [
        {
          "output_type": "stream",
          "name": "stdout",
          "text": [
            "Downloading data from https://www.cs.toronto.edu/~kriz/cifar-10-python.tar.gz\n",
            "170498071/170498071 [==============================] - 4s 0us/step\n",
            "(50000, 32, 32, 3) (50000, 1)\n"
          ]
        }
      ]
    },
    {
      "cell_type": "code",
      "source": [
        "\n",
        "from keras.layers import (Conv2D,\n",
        "                          BatchNormalization,\n",
        "                          MaxPool2D,\n",
        "                          Dropout,Flatten,Dense)\n",
        "from keras.models import Sequential\n",
        "\n",
        "model=Sequential([\n",
        "    Conv2D(filters=32,kernel_size=(3,3),activation='relu'),\n",
        "    Conv2D(filters=32,kernel_size=(3,3),activation='relu'),\n",
        "    Conv2D(filters=32,kernel_size=(3,3),activation='relu'),\n",
        "    MaxPool2D(pool_size=(2,2)),\n",
        "    Dropout(0.25),\n",
        "    Conv2D(filters=32,kernel_size=(3,3),activation='relu'),\n",
        "    Conv2D(filters=32,kernel_size=(3,3),activation='relu'),\n",
        "    Conv2D(filters=32,kernel_size=(3,3),activation='relu'),\n",
        "    MaxPool2D(pool_size=(2,2)),\n",
        "    Dropout(0.25),\n",
        "    Flatten(),\n",
        "    Dense(512,activation='relu'),\n",
        "    Dropout(0.5),\n",
        "    Dense(10,activation='softmax')  \n",
        "])\n",
        "\n",
        "model.compile(optimizer='sgd', loss='categorical_crossentropy', metrics=['accuracy'])\n"
      ],
      "metadata": {
        "id": "FFVQ_zh1E74d"
      },
      "execution_count": 7,
      "outputs": []
    },
    {
      "cell_type": "code",
      "source": [
        "from tensorflow.keras.utils import to_categorical\n",
        "\n",
        "y_new = to_categorical(y_train,10)\n",
        "print(y_new.shape)"
      ],
      "metadata": {
        "id": "BaOoPQCpGkf9",
        "outputId": "b020da12-7533-402a-91dc-45afdd3bc242",
        "colab": {
          "base_uri": "https://localhost:8080/"
        }
      },
      "execution_count": 10,
      "outputs": [
        {
          "output_type": "stream",
          "name": "stdout",
          "text": [
            "(50000, 10)\n"
          ]
        }
      ]
    },
    {
      "cell_type": "code",
      "source": [
        "model.fit(\n",
        "    x=x_train,\n",
        "    y=y_new,\n",
        "    epochs=10,\n",
        "    shuffle=True)\n",
        "model.save('')"
      ],
      "metadata": {
        "id": "rZm6Q0TAHDaS"
      },
      "execution_count": null,
      "outputs": []
    }
  ],
  "metadata": {
    "colab": {
      "name": "Welcome To Colaboratory",
      "toc_visible": true,
      "provenance": [],
      "include_colab_link": true
    },
    "kernelspec": {
      "display_name": "Python 3",
      "name": "python3"
    }
  },
  "nbformat": 4,
  "nbformat_minor": 0
}